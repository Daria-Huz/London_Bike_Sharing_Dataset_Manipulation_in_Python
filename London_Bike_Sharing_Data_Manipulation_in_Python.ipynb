{
 "cells": [
  {
   "cell_type": "markdown",
   "id": "b7d02ebc",
   "metadata": {
    "papermill": {
     "duration": 0.008598,
     "end_time": "2024-01-18T07:11:22.802240",
     "exception": false,
     "start_time": "2024-01-18T07:11:22.793642",
     "status": "completed"
    },
    "tags": []
   },
   "source": [
    "# London Bike Sharing Dataset\n",
    "\n",
    "### Content\n",
    "The data is acquired from 3 sources:\n",
    "\n",
    "1. Https://cycling.data.tfl.gov.uk/ 'Contains OS data © Crown copyright and database rights 2016' and Geomni UK Map data © and database rights [2019] 'Powered by TfL Open Data'\n",
    "2. freemeteo.com - weather data\n",
    "3. https://www.gov.uk/bank-holidays\n",
    "From 1/1/2015 to 31/12/2016\n",
    "The data from cycling dataset is grouped by \"Start time\", this represent the count of new bike shares grouped by hour. The long duration shares are not taken in the count.\n",
    "\n",
    "### Metadata:\n",
    "1. \"timestamp\" - timestamp field for grouping the data\n",
    "2. \"cnt\" - the count of a new bike shares\n",
    "3. \"t1\" - real temperature in C\n",
    "4. \"t2\" - temperature in C \"feels like\"\n",
    "5. \"hum\" - humidity in percentage\n",
    "6. \"wind_speed\" - wind speed in km/h\n",
    "7. \"weather_code\" - category of the weather\n",
    "8. \"is_holiday\" - boolean field - 1 holiday / 0 non holiday\n",
    "9. \"is_weekend\" - boolean field - 1 if the day is weekend\n",
    "10. \"season\" - category field meteorological seasons: 0-spring ; 1-summer; 2-fall; 3-winter.\n",
    "\n",
    "\"weather_code\" category description:\n",
    "1. 1 = Clear ; mostly clear but have some values with haze/fog/patches of fog/ fog in vicinity \n",
    "2. 2 = scattered clouds / few clouds \n",
    "3. 3 = Broken clouds \n",
    "4. 4 = Cloudy \n",
    "5. 7 = Rain/ light Rain shower/ Light rain \n",
    "6. 10 = rain with thunderstorm \n",
    "7. 26 = snowfall \n",
    "8. 94 = Freezing Fog\n",
    "\n",
    "### Project goal: manipulate the data."
   ]
  },
  {
   "cell_type": "markdown",
   "id": "f7fc7841",
   "metadata": {
    "papermill": {
     "duration": 0.008218,
     "end_time": "2024-01-18T07:11:22.818647",
     "exception": false,
     "start_time": "2024-01-18T07:11:22.810429",
     "status": "completed"
    },
    "tags": []
   },
   "source": [
    "# 1. Downloading libraries"
   ]
  },
  {
   "cell_type": "code",
   "execution_count": 1,
   "id": "fb2f178b",
   "metadata": {
    "execution": {
     "iopub.execute_input": "2024-01-18T07:11:22.837230Z",
     "iopub.status.busy": "2024-01-18T07:11:22.836588Z",
     "iopub.status.idle": "2024-01-18T07:11:23.317747Z",
     "shell.execute_reply": "2024-01-18T07:11:23.316642Z"
    },
    "papermill": {
     "duration": 0.493859,
     "end_time": "2024-01-18T07:11:23.320732",
     "exception": false,
     "start_time": "2024-01-18T07:11:22.826873",
     "status": "completed"
    },
    "tags": []
   },
   "outputs": [],
   "source": [
    "# import the pandas library:\n",
    "import pandas as pd"
   ]
  },
  {
   "cell_type": "markdown",
   "id": "839ddbd5",
   "metadata": {
    "papermill": {
     "duration": 0.008254,
     "end_time": "2024-01-18T07:11:23.337491",
     "exception": false,
     "start_time": "2024-01-18T07:11:23.329237",
     "status": "completed"
    },
    "tags": []
   },
   "source": [
    "# 2. Importing dataset"
   ]
  },
  {
   "cell_type": "code",
   "execution_count": 2,
   "id": "439ca666",
   "metadata": {
    "execution": {
     "iopub.execute_input": "2024-01-18T07:11:23.356587Z",
     "iopub.status.busy": "2024-01-18T07:11:23.355626Z",
     "iopub.status.idle": "2024-01-18T07:11:23.360942Z",
     "shell.execute_reply": "2024-01-18T07:11:23.359697Z"
    },
    "papermill": {
     "duration": 0.01799,
     "end_time": "2024-01-18T07:11:23.363457",
     "exception": false,
     "start_time": "2024-01-18T07:11:23.345467",
     "status": "completed"
    },
    "tags": []
   },
   "outputs": [],
   "source": [
    "# url:\n",
    "url = '/kaggle/input/london-bike-sharing-dataset/london_merged.csv'"
   ]
  },
  {
   "cell_type": "code",
   "execution_count": 3,
   "id": "3e86a10d",
   "metadata": {
    "execution": {
     "iopub.execute_input": "2024-01-18T07:11:23.382329Z",
     "iopub.status.busy": "2024-01-18T07:11:23.381853Z",
     "iopub.status.idle": "2024-01-18T07:11:23.452902Z",
     "shell.execute_reply": "2024-01-18T07:11:23.451485Z"
    },
    "papermill": {
     "duration": 0.084378,
     "end_time": "2024-01-18T07:11:23.456253",
     "exception": false,
     "start_time": "2024-01-18T07:11:23.371875",
     "status": "completed"
    },
    "tags": []
   },
   "outputs": [],
   "source": [
    "# read in the csv file as a pandas dataframe:\n",
    "bikes = pd.read_csv(url)"
   ]
  },
  {
   "cell_type": "markdown",
   "id": "c51b38f9",
   "metadata": {
    "papermill": {
     "duration": 0.00788,
     "end_time": "2024-01-18T07:11:23.472439",
     "exception": false,
     "start_time": "2024-01-18T07:11:23.464559",
     "status": "completed"
    },
    "tags": []
   },
   "source": [
    "# 3. Data exploration"
   ]
  },
  {
   "cell_type": "code",
   "execution_count": 4,
   "id": "9abc296c",
   "metadata": {
    "execution": {
     "iopub.execute_input": "2024-01-18T07:11:23.490541Z",
     "iopub.status.busy": "2024-01-18T07:11:23.490151Z",
     "iopub.status.idle": "2024-01-18T07:11:23.532559Z",
     "shell.execute_reply": "2024-01-18T07:11:23.531649Z"
    },
    "papermill": {
     "duration": 0.054852,
     "end_time": "2024-01-18T07:11:23.535271",
     "exception": false,
     "start_time": "2024-01-18T07:11:23.480419",
     "status": "completed"
    },
    "tags": []
   },
   "outputs": [
    {
     "name": "stdout",
     "output_type": "stream",
     "text": [
      "<class 'pandas.core.frame.DataFrame'>\n",
      "RangeIndex: 17414 entries, 0 to 17413\n",
      "Data columns (total 10 columns):\n",
      " #   Column        Non-Null Count  Dtype  \n",
      "---  ------        --------------  -----  \n",
      " 0   timestamp     17414 non-null  object \n",
      " 1   cnt           17414 non-null  int64  \n",
      " 2   t1            17414 non-null  float64\n",
      " 3   t2            17414 non-null  float64\n",
      " 4   hum           17414 non-null  float64\n",
      " 5   wind_speed    17414 non-null  float64\n",
      " 6   weather_code  17414 non-null  float64\n",
      " 7   is_holiday    17414 non-null  float64\n",
      " 8   is_weekend    17414 non-null  float64\n",
      " 9   season        17414 non-null  float64\n",
      "dtypes: float64(8), int64(1), object(1)\n",
      "memory usage: 1.3+ MB\n"
     ]
    }
   ],
   "source": [
    "# explore the data:\n",
    "bikes.info()"
   ]
  },
  {
   "cell_type": "code",
   "execution_count": 5,
   "id": "4f2b939d",
   "metadata": {
    "execution": {
     "iopub.execute_input": "2024-01-18T07:11:23.554174Z",
     "iopub.status.busy": "2024-01-18T07:11:23.553370Z",
     "iopub.status.idle": "2024-01-18T07:11:23.561215Z",
     "shell.execute_reply": "2024-01-18T07:11:23.560119Z"
    },
    "papermill": {
     "duration": 0.020103,
     "end_time": "2024-01-18T07:11:23.563755",
     "exception": false,
     "start_time": "2024-01-18T07:11:23.543652",
     "status": "completed"
    },
    "tags": []
   },
   "outputs": [
    {
     "data": {
      "text/plain": [
       "(17414, 10)"
      ]
     },
     "execution_count": 5,
     "metadata": {},
     "output_type": "execute_result"
    }
   ],
   "source": [
    "bikes.shape"
   ]
  },
  {
   "cell_type": "code",
   "execution_count": 6,
   "id": "a62bca98",
   "metadata": {
    "execution": {
     "iopub.execute_input": "2024-01-18T07:11:23.582875Z",
     "iopub.status.busy": "2024-01-18T07:11:23.582385Z",
     "iopub.status.idle": "2024-01-18T07:11:23.620297Z",
     "shell.execute_reply": "2024-01-18T07:11:23.618864Z"
    },
    "papermill": {
     "duration": 0.051388,
     "end_time": "2024-01-18T07:11:23.623357",
     "exception": false,
     "start_time": "2024-01-18T07:11:23.571969",
     "status": "completed"
    },
    "tags": []
   },
   "outputs": [
    {
     "data": {
      "text/html": [
       "<div>\n",
       "<style scoped>\n",
       "    .dataframe tbody tr th:only-of-type {\n",
       "        vertical-align: middle;\n",
       "    }\n",
       "\n",
       "    .dataframe tbody tr th {\n",
       "        vertical-align: top;\n",
       "    }\n",
       "\n",
       "    .dataframe thead th {\n",
       "        text-align: right;\n",
       "    }\n",
       "</style>\n",
       "<table border=\"1\" class=\"dataframe\">\n",
       "  <thead>\n",
       "    <tr style=\"text-align: right;\">\n",
       "      <th></th>\n",
       "      <th>timestamp</th>\n",
       "      <th>cnt</th>\n",
       "      <th>t1</th>\n",
       "      <th>t2</th>\n",
       "      <th>hum</th>\n",
       "      <th>wind_speed</th>\n",
       "      <th>weather_code</th>\n",
       "      <th>is_holiday</th>\n",
       "      <th>is_weekend</th>\n",
       "      <th>season</th>\n",
       "    </tr>\n",
       "  </thead>\n",
       "  <tbody>\n",
       "    <tr>\n",
       "      <th>0</th>\n",
       "      <td>2015-01-04 00:00:00</td>\n",
       "      <td>182</td>\n",
       "      <td>3.0</td>\n",
       "      <td>2.0</td>\n",
       "      <td>93.0</td>\n",
       "      <td>6.0</td>\n",
       "      <td>3.0</td>\n",
       "      <td>0.0</td>\n",
       "      <td>1.0</td>\n",
       "      <td>3.0</td>\n",
       "    </tr>\n",
       "    <tr>\n",
       "      <th>1</th>\n",
       "      <td>2015-01-04 01:00:00</td>\n",
       "      <td>138</td>\n",
       "      <td>3.0</td>\n",
       "      <td>2.5</td>\n",
       "      <td>93.0</td>\n",
       "      <td>5.0</td>\n",
       "      <td>1.0</td>\n",
       "      <td>0.0</td>\n",
       "      <td>1.0</td>\n",
       "      <td>3.0</td>\n",
       "    </tr>\n",
       "    <tr>\n",
       "      <th>2</th>\n",
       "      <td>2015-01-04 02:00:00</td>\n",
       "      <td>134</td>\n",
       "      <td>2.5</td>\n",
       "      <td>2.5</td>\n",
       "      <td>96.5</td>\n",
       "      <td>0.0</td>\n",
       "      <td>1.0</td>\n",
       "      <td>0.0</td>\n",
       "      <td>1.0</td>\n",
       "      <td>3.0</td>\n",
       "    </tr>\n",
       "    <tr>\n",
       "      <th>3</th>\n",
       "      <td>2015-01-04 03:00:00</td>\n",
       "      <td>72</td>\n",
       "      <td>2.0</td>\n",
       "      <td>2.0</td>\n",
       "      <td>100.0</td>\n",
       "      <td>0.0</td>\n",
       "      <td>1.0</td>\n",
       "      <td>0.0</td>\n",
       "      <td>1.0</td>\n",
       "      <td>3.0</td>\n",
       "    </tr>\n",
       "    <tr>\n",
       "      <th>4</th>\n",
       "      <td>2015-01-04 04:00:00</td>\n",
       "      <td>47</td>\n",
       "      <td>2.0</td>\n",
       "      <td>0.0</td>\n",
       "      <td>93.0</td>\n",
       "      <td>6.5</td>\n",
       "      <td>1.0</td>\n",
       "      <td>0.0</td>\n",
       "      <td>1.0</td>\n",
       "      <td>3.0</td>\n",
       "    </tr>\n",
       "    <tr>\n",
       "      <th>...</th>\n",
       "      <td>...</td>\n",
       "      <td>...</td>\n",
       "      <td>...</td>\n",
       "      <td>...</td>\n",
       "      <td>...</td>\n",
       "      <td>...</td>\n",
       "      <td>...</td>\n",
       "      <td>...</td>\n",
       "      <td>...</td>\n",
       "      <td>...</td>\n",
       "    </tr>\n",
       "    <tr>\n",
       "      <th>17409</th>\n",
       "      <td>2017-01-03 19:00:00</td>\n",
       "      <td>1042</td>\n",
       "      <td>5.0</td>\n",
       "      <td>1.0</td>\n",
       "      <td>81.0</td>\n",
       "      <td>19.0</td>\n",
       "      <td>3.0</td>\n",
       "      <td>0.0</td>\n",
       "      <td>0.0</td>\n",
       "      <td>3.0</td>\n",
       "    </tr>\n",
       "    <tr>\n",
       "      <th>17410</th>\n",
       "      <td>2017-01-03 20:00:00</td>\n",
       "      <td>541</td>\n",
       "      <td>5.0</td>\n",
       "      <td>1.0</td>\n",
       "      <td>81.0</td>\n",
       "      <td>21.0</td>\n",
       "      <td>4.0</td>\n",
       "      <td>0.0</td>\n",
       "      <td>0.0</td>\n",
       "      <td>3.0</td>\n",
       "    </tr>\n",
       "    <tr>\n",
       "      <th>17411</th>\n",
       "      <td>2017-01-03 21:00:00</td>\n",
       "      <td>337</td>\n",
       "      <td>5.5</td>\n",
       "      <td>1.5</td>\n",
       "      <td>78.5</td>\n",
       "      <td>24.0</td>\n",
       "      <td>4.0</td>\n",
       "      <td>0.0</td>\n",
       "      <td>0.0</td>\n",
       "      <td>3.0</td>\n",
       "    </tr>\n",
       "    <tr>\n",
       "      <th>17412</th>\n",
       "      <td>2017-01-03 22:00:00</td>\n",
       "      <td>224</td>\n",
       "      <td>5.5</td>\n",
       "      <td>1.5</td>\n",
       "      <td>76.0</td>\n",
       "      <td>23.0</td>\n",
       "      <td>4.0</td>\n",
       "      <td>0.0</td>\n",
       "      <td>0.0</td>\n",
       "      <td>3.0</td>\n",
       "    </tr>\n",
       "    <tr>\n",
       "      <th>17413</th>\n",
       "      <td>2017-01-03 23:00:00</td>\n",
       "      <td>139</td>\n",
       "      <td>5.0</td>\n",
       "      <td>1.0</td>\n",
       "      <td>76.0</td>\n",
       "      <td>22.0</td>\n",
       "      <td>2.0</td>\n",
       "      <td>0.0</td>\n",
       "      <td>0.0</td>\n",
       "      <td>3.0</td>\n",
       "    </tr>\n",
       "  </tbody>\n",
       "</table>\n",
       "<p>17414 rows × 10 columns</p>\n",
       "</div>"
      ],
      "text/plain": [
       "                 timestamp   cnt   t1   t2    hum  wind_speed  weather_code  \\\n",
       "0      2015-01-04 00:00:00   182  3.0  2.0   93.0         6.0           3.0   \n",
       "1      2015-01-04 01:00:00   138  3.0  2.5   93.0         5.0           1.0   \n",
       "2      2015-01-04 02:00:00   134  2.5  2.5   96.5         0.0           1.0   \n",
       "3      2015-01-04 03:00:00    72  2.0  2.0  100.0         0.0           1.0   \n",
       "4      2015-01-04 04:00:00    47  2.0  0.0   93.0         6.5           1.0   \n",
       "...                    ...   ...  ...  ...    ...         ...           ...   \n",
       "17409  2017-01-03 19:00:00  1042  5.0  1.0   81.0        19.0           3.0   \n",
       "17410  2017-01-03 20:00:00   541  5.0  1.0   81.0        21.0           4.0   \n",
       "17411  2017-01-03 21:00:00   337  5.5  1.5   78.5        24.0           4.0   \n",
       "17412  2017-01-03 22:00:00   224  5.5  1.5   76.0        23.0           4.0   \n",
       "17413  2017-01-03 23:00:00   139  5.0  1.0   76.0        22.0           2.0   \n",
       "\n",
       "       is_holiday  is_weekend  season  \n",
       "0             0.0         1.0     3.0  \n",
       "1             0.0         1.0     3.0  \n",
       "2             0.0         1.0     3.0  \n",
       "3             0.0         1.0     3.0  \n",
       "4             0.0         1.0     3.0  \n",
       "...           ...         ...     ...  \n",
       "17409         0.0         0.0     3.0  \n",
       "17410         0.0         0.0     3.0  \n",
       "17411         0.0         0.0     3.0  \n",
       "17412         0.0         0.0     3.0  \n",
       "17413         0.0         0.0     3.0  \n",
       "\n",
       "[17414 rows x 10 columns]"
      ]
     },
     "execution_count": 6,
     "metadata": {},
     "output_type": "execute_result"
    }
   ],
   "source": [
    "bikes"
   ]
  },
  {
   "cell_type": "code",
   "execution_count": 7,
   "id": "c567a59c",
   "metadata": {
    "execution": {
     "iopub.execute_input": "2024-01-18T07:11:23.644962Z",
     "iopub.status.busy": "2024-01-18T07:11:23.644581Z",
     "iopub.status.idle": "2024-01-18T07:11:23.654661Z",
     "shell.execute_reply": "2024-01-18T07:11:23.653604Z"
    },
    "papermill": {
     "duration": 0.024964,
     "end_time": "2024-01-18T07:11:23.657179",
     "exception": false,
     "start_time": "2024-01-18T07:11:23.632215",
     "status": "completed"
    },
    "tags": []
   },
   "outputs": [
    {
     "data": {
      "text/plain": [
       "weather_code\n",
       "1.0     6150\n",
       "2.0     4034\n",
       "3.0     3551\n",
       "7.0     2141\n",
       "4.0     1464\n",
       "26.0      60\n",
       "10.0      14\n",
       "Name: count, dtype: int64"
      ]
     },
     "execution_count": 7,
     "metadata": {},
     "output_type": "execute_result"
    }
   ],
   "source": [
    "# count the unique values in the weather_code column\n",
    "bikes.weather_code.value_counts()"
   ]
  },
  {
   "cell_type": "code",
   "execution_count": 8,
   "id": "b704c111",
   "metadata": {
    "execution": {
     "iopub.execute_input": "2024-01-18T07:11:23.679994Z",
     "iopub.status.busy": "2024-01-18T07:11:23.679185Z",
     "iopub.status.idle": "2024-01-18T07:11:23.689370Z",
     "shell.execute_reply": "2024-01-18T07:11:23.687893Z"
    },
    "papermill": {
     "duration": 0.024118,
     "end_time": "2024-01-18T07:11:23.692022",
     "exception": false,
     "start_time": "2024-01-18T07:11:23.667904",
     "status": "completed"
    },
    "tags": []
   },
   "outputs": [
    {
     "data": {
      "text/plain": [
       "season\n",
       "0.0    4394\n",
       "1.0    4387\n",
       "3.0    4330\n",
       "2.0    4303\n",
       "Name: count, dtype: int64"
      ]
     },
     "execution_count": 8,
     "metadata": {},
     "output_type": "execute_result"
    }
   ],
   "source": [
    "# count the unique values in the season column\n",
    "bikes.season.value_counts()"
   ]
  },
  {
   "cell_type": "markdown",
   "id": "4b642c10",
   "metadata": {
    "papermill": {
     "duration": 0.008776,
     "end_time": "2024-01-18T07:11:23.710522",
     "exception": false,
     "start_time": "2024-01-18T07:11:23.701746",
     "status": "completed"
    },
    "tags": []
   },
   "source": [
    "# 4. Data manipulation"
   ]
  },
  {
   "cell_type": "code",
   "execution_count": 9,
   "id": "86c74aaf",
   "metadata": {
    "execution": {
     "iopub.execute_input": "2024-01-18T07:11:23.730746Z",
     "iopub.status.busy": "2024-01-18T07:11:23.729833Z",
     "iopub.status.idle": "2024-01-18T07:11:23.735743Z",
     "shell.execute_reply": "2024-01-18T07:11:23.734614Z"
    },
    "papermill": {
     "duration": 0.018684,
     "end_time": "2024-01-18T07:11:23.738246",
     "exception": false,
     "start_time": "2024-01-18T07:11:23.719562",
     "status": "completed"
    },
    "tags": []
   },
   "outputs": [],
   "source": [
    "# specifying the column names that I want to use:\n",
    "new_cols_dict = {\n",
    "    'timestamp' : 'time',\n",
    "    'cnt' : 'count',\n",
    "    't1' :'temp_real_C',\n",
    "    't2' : 'temp_feels_like_C',\n",
    "    'hum' : 'humidity_percent',\n",
    "    'wind_speed' : 'wind_speeed_kph',\n",
    "    'weather_code' : 'weather',\n",
    "    'is_holiday' : 'is_holiday',\n",
    "    'is_wwekend' : 'is_weekend',\n",
    "    'season' : 'season'\n",
    "}"
   ]
  },
  {
   "cell_type": "code",
   "execution_count": 10,
   "id": "b5cf5dd5",
   "metadata": {
    "execution": {
     "iopub.execute_input": "2024-01-18T07:11:23.759091Z",
     "iopub.status.busy": "2024-01-18T07:11:23.758473Z",
     "iopub.status.idle": "2024-01-18T07:11:23.765263Z",
     "shell.execute_reply": "2024-01-18T07:11:23.764135Z"
    },
    "papermill": {
     "duration": 0.020078,
     "end_time": "2024-01-18T07:11:23.767853",
     "exception": false,
     "start_time": "2024-01-18T07:11:23.747775",
     "status": "completed"
    },
    "tags": []
   },
   "outputs": [],
   "source": [
    "# renaming the columns to the spesified column names:\n",
    "bikes.rename(new_cols_dict, axis=1, inplace=True)"
   ]
  },
  {
   "cell_type": "code",
   "execution_count": 11,
   "id": "cc03c336",
   "metadata": {
    "execution": {
     "iopub.execute_input": "2024-01-18T07:11:23.788025Z",
     "iopub.status.busy": "2024-01-18T07:11:23.787455Z",
     "iopub.status.idle": "2024-01-18T07:11:23.794790Z",
     "shell.execute_reply": "2024-01-18T07:11:23.793624Z"
    },
    "papermill": {
     "duration": 0.020333,
     "end_time": "2024-01-18T07:11:23.797364",
     "exception": false,
     "start_time": "2024-01-18T07:11:23.777031",
     "status": "completed"
    },
    "tags": []
   },
   "outputs": [],
   "source": [
    "# changing the humidity values to percentage (i.e. a value between 0 and 1):\n",
    "bikes.humidity_percent = bikes.humidity_percent/100"
   ]
  },
  {
   "cell_type": "code",
   "execution_count": 12,
   "id": "5f4470c5",
   "metadata": {
    "execution": {
     "iopub.execute_input": "2024-01-18T07:11:23.819101Z",
     "iopub.status.busy": "2024-01-18T07:11:23.818448Z",
     "iopub.status.idle": "2024-01-18T07:11:23.823490Z",
     "shell.execute_reply": "2024-01-18T07:11:23.822376Z"
    },
    "papermill": {
     "duration": 0.019176,
     "end_time": "2024-01-18T07:11:23.825988",
     "exception": false,
     "start_time": "2024-01-18T07:11:23.806812",
     "status": "completed"
    },
    "tags": []
   },
   "outputs": [],
   "source": [
    "# creating a season dictionary so that we can map the integers 0-3 to the actual written values:\n",
    "season_dict = {\n",
    "    '0.0' : 'spring',\n",
    "    '1.0' : 'summer',\n",
    "    '2.0' : 'autumn',\n",
    "    '3.0' : 'winter'\n",
    "}"
   ]
  },
  {
   "cell_type": "code",
   "execution_count": 13,
   "id": "e928f44e",
   "metadata": {
    "execution": {
     "iopub.execute_input": "2024-01-18T07:11:23.846265Z",
     "iopub.status.busy": "2024-01-18T07:11:23.845836Z",
     "iopub.status.idle": "2024-01-18T07:11:23.852007Z",
     "shell.execute_reply": "2024-01-18T07:11:23.850675Z"
    },
    "papermill": {
     "duration": 0.019397,
     "end_time": "2024-01-18T07:11:23.854598",
     "exception": false,
     "start_time": "2024-01-18T07:11:23.835201",
     "status": "completed"
    },
    "tags": []
   },
   "outputs": [],
   "source": [
    "# creating a weather dictionary so that we can map the integers to the actual written values:\n",
    "weather_dict = {\n",
    "    '1.0' : 'Clear',\n",
    "    '2.0' : 'Scattered clouds',\n",
    "    '3.0' : 'Broken clouds',\n",
    "    '4.0' : 'Cloudy',\n",
    "    '7.0' : 'Rain',\n",
    "    '10.0' : 'Rain with thunderstorm',\n",
    "    '26.0' : 'Snowfall'\n",
    "}"
   ]
  },
  {
   "cell_type": "code",
   "execution_count": 14,
   "id": "6dd52da6",
   "metadata": {
    "execution": {
     "iopub.execute_input": "2024-01-18T07:11:23.874789Z",
     "iopub.status.busy": "2024-01-18T07:11:23.874361Z",
     "iopub.status.idle": "2024-01-18T07:11:23.893004Z",
     "shell.execute_reply": "2024-01-18T07:11:23.892099Z"
    },
    "papermill": {
     "duration": 0.0316,
     "end_time": "2024-01-18T07:11:23.895439",
     "exception": false,
     "start_time": "2024-01-18T07:11:23.863839",
     "status": "completed"
    },
    "tags": []
   },
   "outputs": [],
   "source": [
    "# changing the seasons column data type to string:\n",
    "bikes.season = bikes.season.astype('str')"
   ]
  },
  {
   "cell_type": "code",
   "execution_count": 15,
   "id": "b255088c",
   "metadata": {
    "execution": {
     "iopub.execute_input": "2024-01-18T07:11:23.919015Z",
     "iopub.status.busy": "2024-01-18T07:11:23.917624Z",
     "iopub.status.idle": "2024-01-18T07:11:23.932685Z",
     "shell.execute_reply": "2024-01-18T07:11:23.931453Z"
    },
    "papermill": {
     "duration": 0.029474,
     "end_time": "2024-01-18T07:11:23.935773",
     "exception": false,
     "start_time": "2024-01-18T07:11:23.906299",
     "status": "completed"
    },
    "tags": []
   },
   "outputs": [],
   "source": [
    "# mapping the values 0-3 to the actual written seasons:\n",
    "bikes.season = bikes.season.map(season_dict)"
   ]
  },
  {
   "cell_type": "code",
   "execution_count": 16,
   "id": "62750565",
   "metadata": {
    "execution": {
     "iopub.execute_input": "2024-01-18T07:11:23.959708Z",
     "iopub.status.busy": "2024-01-18T07:11:23.957654Z",
     "iopub.status.idle": "2024-01-18T07:11:23.978914Z",
     "shell.execute_reply": "2024-01-18T07:11:23.977486Z"
    },
    "papermill": {
     "duration": 0.0356,
     "end_time": "2024-01-18T07:11:23.981528",
     "exception": false,
     "start_time": "2024-01-18T07:11:23.945928",
     "status": "completed"
    },
    "tags": []
   },
   "outputs": [],
   "source": [
    "# changing the weather column data type to string:\n",
    "bikes.weather = bikes.weather.astype('str')"
   ]
  },
  {
   "cell_type": "code",
   "execution_count": 17,
   "id": "febeea55",
   "metadata": {
    "execution": {
     "iopub.execute_input": "2024-01-18T07:11:24.002818Z",
     "iopub.status.busy": "2024-01-18T07:11:24.001825Z",
     "iopub.status.idle": "2024-01-18T07:11:24.013762Z",
     "shell.execute_reply": "2024-01-18T07:11:24.012317Z"
    },
    "papermill": {
     "duration": 0.025826,
     "end_time": "2024-01-18T07:11:24.016684",
     "exception": false,
     "start_time": "2024-01-18T07:11:23.990858",
     "status": "completed"
    },
    "tags": []
   },
   "outputs": [],
   "source": [
    "# mapping the values to the actual written weathers:\n",
    "bikes.weather = bikes.weather.map(weather_dict)"
   ]
  },
  {
   "cell_type": "code",
   "execution_count": 18,
   "id": "461dd48d",
   "metadata": {
    "execution": {
     "iopub.execute_input": "2024-01-18T07:11:24.038098Z",
     "iopub.status.busy": "2024-01-18T07:11:24.037631Z",
     "iopub.status.idle": "2024-01-18T07:11:24.058076Z",
     "shell.execute_reply": "2024-01-18T07:11:24.056990Z"
    },
    "papermill": {
     "duration": 0.033887,
     "end_time": "2024-01-18T07:11:24.060505",
     "exception": false,
     "start_time": "2024-01-18T07:11:24.026618",
     "status": "completed"
    },
    "tags": []
   },
   "outputs": [
    {
     "data": {
      "text/html": [
       "<div>\n",
       "<style scoped>\n",
       "    .dataframe tbody tr th:only-of-type {\n",
       "        vertical-align: middle;\n",
       "    }\n",
       "\n",
       "    .dataframe tbody tr th {\n",
       "        vertical-align: top;\n",
       "    }\n",
       "\n",
       "    .dataframe thead th {\n",
       "        text-align: right;\n",
       "    }\n",
       "</style>\n",
       "<table border=\"1\" class=\"dataframe\">\n",
       "  <thead>\n",
       "    <tr style=\"text-align: right;\">\n",
       "      <th></th>\n",
       "      <th>time</th>\n",
       "      <th>count</th>\n",
       "      <th>temp_real_C</th>\n",
       "      <th>temp_feels_like_C</th>\n",
       "      <th>humidity_percent</th>\n",
       "      <th>wind_speeed_kph</th>\n",
       "      <th>weather</th>\n",
       "      <th>is_holiday</th>\n",
       "      <th>is_weekend</th>\n",
       "      <th>season</th>\n",
       "    </tr>\n",
       "  </thead>\n",
       "  <tbody>\n",
       "    <tr>\n",
       "      <th>0</th>\n",
       "      <td>2015-01-04 00:00:00</td>\n",
       "      <td>182</td>\n",
       "      <td>3.0</td>\n",
       "      <td>2.0</td>\n",
       "      <td>0.930</td>\n",
       "      <td>6.0</td>\n",
       "      <td>Broken clouds</td>\n",
       "      <td>0.0</td>\n",
       "      <td>1.0</td>\n",
       "      <td>winter</td>\n",
       "    </tr>\n",
       "    <tr>\n",
       "      <th>1</th>\n",
       "      <td>2015-01-04 01:00:00</td>\n",
       "      <td>138</td>\n",
       "      <td>3.0</td>\n",
       "      <td>2.5</td>\n",
       "      <td>0.930</td>\n",
       "      <td>5.0</td>\n",
       "      <td>Clear</td>\n",
       "      <td>0.0</td>\n",
       "      <td>1.0</td>\n",
       "      <td>winter</td>\n",
       "    </tr>\n",
       "    <tr>\n",
       "      <th>2</th>\n",
       "      <td>2015-01-04 02:00:00</td>\n",
       "      <td>134</td>\n",
       "      <td>2.5</td>\n",
       "      <td>2.5</td>\n",
       "      <td>0.965</td>\n",
       "      <td>0.0</td>\n",
       "      <td>Clear</td>\n",
       "      <td>0.0</td>\n",
       "      <td>1.0</td>\n",
       "      <td>winter</td>\n",
       "    </tr>\n",
       "    <tr>\n",
       "      <th>3</th>\n",
       "      <td>2015-01-04 03:00:00</td>\n",
       "      <td>72</td>\n",
       "      <td>2.0</td>\n",
       "      <td>2.0</td>\n",
       "      <td>1.000</td>\n",
       "      <td>0.0</td>\n",
       "      <td>Clear</td>\n",
       "      <td>0.0</td>\n",
       "      <td>1.0</td>\n",
       "      <td>winter</td>\n",
       "    </tr>\n",
       "    <tr>\n",
       "      <th>4</th>\n",
       "      <td>2015-01-04 04:00:00</td>\n",
       "      <td>47</td>\n",
       "      <td>2.0</td>\n",
       "      <td>0.0</td>\n",
       "      <td>0.930</td>\n",
       "      <td>6.5</td>\n",
       "      <td>Clear</td>\n",
       "      <td>0.0</td>\n",
       "      <td>1.0</td>\n",
       "      <td>winter</td>\n",
       "    </tr>\n",
       "  </tbody>\n",
       "</table>\n",
       "</div>"
      ],
      "text/plain": [
       "                  time  count  temp_real_C  temp_feels_like_C  \\\n",
       "0  2015-01-04 00:00:00    182          3.0                2.0   \n",
       "1  2015-01-04 01:00:00    138          3.0                2.5   \n",
       "2  2015-01-04 02:00:00    134          2.5                2.5   \n",
       "3  2015-01-04 03:00:00     72          2.0                2.0   \n",
       "4  2015-01-04 04:00:00     47          2.0                0.0   \n",
       "\n",
       "   humidity_percent  wind_speeed_kph        weather  is_holiday  is_weekend  \\\n",
       "0             0.930              6.0  Broken clouds         0.0         1.0   \n",
       "1             0.930              5.0          Clear         0.0         1.0   \n",
       "2             0.965              0.0          Clear         0.0         1.0   \n",
       "3             1.000              0.0          Clear         0.0         1.0   \n",
       "4             0.930              6.5          Clear         0.0         1.0   \n",
       "\n",
       "   season  \n",
       "0  winter  \n",
       "1  winter  \n",
       "2  winter  \n",
       "3  winter  \n",
       "4  winter  "
      ]
     },
     "execution_count": 18,
     "metadata": {},
     "output_type": "execute_result"
    }
   ],
   "source": [
    "# check the dataframe to see if the mappings have worked:\n",
    "bikes.head()"
   ]
  },
  {
   "cell_type": "code",
   "execution_count": 19,
   "id": "7faa35ca",
   "metadata": {
    "execution": {
     "iopub.execute_input": "2024-01-18T07:11:24.081340Z",
     "iopub.status.busy": "2024-01-18T07:11:24.080856Z",
     "iopub.status.idle": "2024-01-18T07:11:32.400264Z",
     "shell.execute_reply": "2024-01-18T07:11:32.398570Z"
    },
    "papermill": {
     "duration": 8.333575,
     "end_time": "2024-01-18T07:11:32.403185",
     "exception": false,
     "start_time": "2024-01-18T07:11:24.069610",
     "status": "completed"
    },
    "tags": []
   },
   "outputs": [],
   "source": [
    "# writing the final dataframe to the excel file that we will use in Tableau visualizations:\n",
    "bikes.to_excel('london_bikes_final.xlsx', sheet_name='Data')"
   ]
  }
 ],
 "metadata": {
  "kaggle": {
   "accelerator": "none",
   "dataSources": [
    {
     "datasetId": 376751,
     "sourceId": 731448,
     "sourceType": "datasetVersion"
    }
   ],
   "dockerImageVersionId": 30635,
   "isGpuEnabled": false,
   "isInternetEnabled": true,
   "language": "python",
   "sourceType": "notebook"
  },
  "kernelspec": {
   "display_name": "Python 3",
   "language": "python",
   "name": "python3"
  },
  "language_info": {
   "codemirror_mode": {
    "name": "ipython",
    "version": 3
   },
   "file_extension": ".py",
   "mimetype": "text/x-python",
   "name": "python",
   "nbconvert_exporter": "python",
   "pygments_lexer": "ipython3",
   "version": "3.10.12"
  },
  "papermill": {
   "default_parameters": {},
   "duration": 13.970177,
   "end_time": "2024-01-18T07:11:33.036426",
   "environment_variables": {},
   "exception": null,
   "input_path": "__notebook__.ipynb",
   "output_path": "__notebook__.ipynb",
   "parameters": {},
   "start_time": "2024-01-18T07:11:19.066249",
   "version": "2.4.0"
  }
 },
 "nbformat": 4,
 "nbformat_minor": 5
}
